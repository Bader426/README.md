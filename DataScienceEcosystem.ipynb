{
 "cells": [
  {
   "cell_type": "markdown",
   "id": "4498866a-7165-487e-8517-0e6634501cad",
   "metadata": {},
   "source": [
    "# Data Science Tools and Ecosystem"
   ]
  },
  {
   "cell_type": "markdown",
   "id": "457c62ff-c057-48cf-a7bf-45f0e5f12863",
   "metadata": {},
   "source": [
    "## In this notebook, Data Science Tools and Ecosystem are summarized."
   ]
  },
  {
   "cell_type": "markdown",
   "id": "27008955-a9e4-4a73-961b-e4629ac5c1b3",
   "metadata": {},
   "source": [
    "### Some of the popular languages that Data Scientists use are:\n",
    "1. Python\n",
    "2. Java\n",
    "3. R"
   ]
  },
  {
   "cell_type": "markdown",
   "id": "4b562482-1a7e-4a0f-9591-33e40436341e",
   "metadata": {},
   "source": [
    "#### Some of the commonly used libraries used by Data Scientists include:\n",
    "1. numpy\n",
    "2. pandas\n",
    "3. matplotlib"
   ]
  },
  {
   "cell_type": "markdown",
   "id": "8a13e207-3c8e-451f-baaa-2185b0ed62c8",
   "metadata": {},
   "source": [
    "| Data Science Tools |\n",
    "| ---------------- |\n",
    "|1. Jupyter Notebooks |\n",
    "|2. RStudio           |\n",
    "|3. VS Code           |"
   ]
  },
  {
   "cell_type": "markdown",
   "id": "ebc22cdb-7f98-4ed9-af86-44fa802a0dfd",
   "metadata": {},
   "source": [
    "### Arithmetic Expression Examples in Python\n",
    "\n",
    "In Python, arithmetic expressions combine numbers and operators to perform calculations. Let's explore some common examples:"
   ]
  },
  {
   "cell_type": "code",
   "execution_count": null,
   "id": "8247b30d-4383-4a93-bd4e-ec9aacabb77c",
   "metadata": {},
   "outputs": [],
   "source": [
    "### Create a code cell to multiply and add numbers\n",
    "(3*4)+5"
   ]
  },
  {
   "cell_type": "code",
   "execution_count": 43,
   "id": "3bc895c3-8a30-41cc-bab5-7ee351146f2d",
   "metadata": {},
   "outputs": [
    {
     "name": "stdout",
     "output_type": "stream",
     "text": [
      "3.3333333333333335\n"
     ]
    }
   ],
   "source": [
    "###  Create a code cell to convert minutes to hours\n",
    "hours = minutes / 60\n",
    "minutes = 200\n",
    "\n",
    "print(hours)  "
   ]
  },
  {
   "cell_type": "markdown",
   "id": "c05283b2-56d2-406a-96ce-9884817058ff",
   "metadata": {},
   "source": [
    "## Author\n",
    "* *[Lakshmi Holla]*\n",
    "* *[\r\n",
    "Niveditha Pandi]*\n",
    "\n",
    "\n",
    "\n"
   ]
  },
  {
   "cell_type": "markdown",
   "id": "d48ea005-5ce5-4c8c-892a-a2f79cfb3e5e",
   "metadata": {},
   "source": [
    "**Objectives:**\n",
    "\n",
    "* **List popular languages for Data Science:** Python, R, SQL, Julia, etc.\n",
    "* **Introduce common libraries used in Data Science:** NumPy, pandas, matplotlib, scikit-learn, ggplot2, etc.\n",
    "* **Explore fundamental data types and structures:** Numbers, strings, lists, dictionaries, arrays, dataframes.\n",
    "* **Demonstrate basic arithmetic operations and expressions:** Calculations in Python.\n",
    "* **Convert units of time:** Minutes to hours."
   ]
  },
  {
   "cell_type": "code",
   "execution_count": null,
   "id": "b9c14080-b04d-4dea-a1e0-5eca91f41c3f",
   "metadata": {},
   "outputs": [],
   "source": []
  }
 ],
 "metadata": {
  "kernelspec": {
   "display_name": "Python 3 (ipykernel)",
   "language": "python",
   "name": "python3"
  },
  "language_info": {
   "codemirror_mode": {
    "name": "ipython",
    "version": 3
   },
   "file_extension": ".py",
   "mimetype": "text/x-python",
   "name": "python",
   "nbconvert_exporter": "python",
   "pygments_lexer": "ipython3",
   "version": "3.12.4"
  }
 },
 "nbformat": 4,
 "nbformat_minor": 5
}
